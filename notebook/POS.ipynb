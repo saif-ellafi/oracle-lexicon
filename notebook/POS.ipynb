{
 "cells": [
  {
   "cell_type": "code",
   "execution_count": null,
   "id": "4fcec965",
   "metadata": {},
   "outputs": [],
   "source": [
    "import sys\n",
    "\n",
    "sys.path.append('../')"
   ]
  },
  {
   "cell_type": "code",
   "execution_count": null,
   "id": "a580261d",
   "metadata": {},
   "outputs": [],
   "source": [
    "from nltk_oracle import *"
   ]
  },
  {
   "cell_type": "code",
   "execution_count": null,
   "id": "2867fbe1",
   "metadata": {},
   "outputs": [],
   "source": [
    "models()"
   ]
  },
  {
   "cell_type": "code",
   "execution_count": null,
   "id": "3d7652ad",
   "metadata": {},
   "outputs": [],
   "source": [
    "example = \"\"\"\n",
    "The sun hadn't quite risen, but now that the five men were out from\n",
    "under the trees it already felt hot. Far ahead, off to the left of\n",
    "the road, the spires of New Angeles gleamed dusky blue against the\n",
    "departing night. The two unarmed men gazed back wistfully at the little\n",
    "town, dark and asleep under its moist leafy umbrellas. The one who was\n",
    "thin and had hair flecked with gray looked all intellect; the other,\n",
    "young and with a curly mop, looked all feeling.\n",
    "\n",
    "The fat man barring their way back to town mopped his head. The two\n",
    "young men flanking him with shotgun and squirtgun hadn't started to\n",
    "sweat yet.\n",
    "\n",
    "The fat man stuffed the big handkerchief back in his pocket, wiped his\n",
    "hands on his shirt, rested his wrists lightly on the pistols holstered\n",
    "either side his stomach, looked at the two unarmed men, indicated the\n",
    "hot road with a nod, and said, \"There's your way, professors. Get\n",
    "going.\"\n",
    "\"\"\""
   ]
  },
  {
   "cell_type": "code",
   "execution_count": null,
   "id": "65ce616b",
   "metadata": {},
   "outputs": [],
   "source": [
    "tagger = parse(example)\n",
    "gen(tagger)"
   ]
  },
  {
   "cell_type": "code",
   "execution_count": null,
   "id": "e9d5ca81",
   "metadata": {},
   "outputs": [],
   "source": [
    "my_tagger = parse_pdf(r\"path/to/file.pdf\", 9, 12)\n",
    "gen(my_tagger)"
   ]
  },
  {
   "cell_type": "code",
   "execution_count": null,
   "id": "6001b74c",
   "metadata": {},
   "outputs": [],
   "source": []
  }
 ],
 "metadata": {
  "kernelspec": {
   "display_name": "Python 3 (ipykernel)",
   "language": "python",
   "name": "python3"
  },
  "language_info": {
   "codemirror_mode": {
    "name": "ipython",
    "version": 3
   },
   "file_extension": ".py",
   "mimetype": "text/x-python",
   "name": "python",
   "nbconvert_exporter": "python",
   "pygments_lexer": "ipython3",
   "version": "3.9.7"
  }
 },
 "nbformat": 4,
 "nbformat_minor": 5
}
